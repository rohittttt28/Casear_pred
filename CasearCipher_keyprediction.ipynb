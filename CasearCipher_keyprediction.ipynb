{
  "nbformat": 4,
  "nbformat_minor": 0,
  "metadata": {
    "colab": {
      "name": "CasearCipher_keyprediction.ipynb",
      "provenance": [],
      "collapsed_sections": [],
      "authorship_tag": "ABX9TyOczDpjpE7IO3dIBsIt9BL4",
      "include_colab_link": true
    },
    "kernelspec": {
      "name": "python3",
      "display_name": "Python 3"
    },
    "accelerator": "GPU"
  },
  "cells": [
    {
      "cell_type": "markdown",
      "metadata": {
        "id": "view-in-github",
        "colab_type": "text"
      },
      "source": [
        "<a href=\"https://colab.research.google.com/github/rohittttt28/Casear_pred/blob/master/CasearCipher_keyprediction.ipynb\" target=\"_parent\"><img src=\"https://colab.research.google.com/assets/colab-badge.svg\" alt=\"Open In Colab\"/></a>"
      ]
    },
    {
      "cell_type": "code",
      "metadata": {
        "id": "INYoXtXQgjeT",
        "colab_type": "code",
        "colab": {
          "resources": {
            "http://localhost:8080/nbextensions/google.colab/files.js": {
              "data": "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",
              "ok": true,
              "headers": [
                [
                  "content-type",
                  "application/javascript"
                ]
              ],
              "status": 200,
              "status_text": ""
            }
          },
          "base_uri": "https://localhost:8080/",
          "height": 39
        },
        "outputId": "c9e001fc-a6b7-48a8-c9a3-62c3c99f763c"
      },
      "source": [
        "from google.colab import files\n",
        "uploaded = files.upload()"
      ],
      "execution_count": null,
      "outputs": [
        {
          "output_type": "display_data",
          "data": {
            "text/html": [
              "\n",
              "     <input type=\"file\" id=\"files-ee71417b-0e33-419c-9383-f0eb3917384b\" name=\"files[]\" multiple disabled\n",
              "        style=\"border:none\" />\n",
              "     <output id=\"result-ee71417b-0e33-419c-9383-f0eb3917384b\">\n",
              "      Upload widget is only available when the cell has been executed in the\n",
              "      current browser session. Please rerun this cell to enable.\n",
              "      </output>\n",
              "      <script src=\"/nbextensions/google.colab/files.js\"></script> "
            ],
            "text/plain": [
              "<IPython.core.display.HTML object>"
            ]
          },
          "metadata": {
            "tags": []
          }
        }
      ]
    },
    {
      "cell_type": "code",
      "metadata": {
        "id": "dxJcO8cHgwwh",
        "colab_type": "code",
        "colab": {}
      },
      "source": [
        "\n",
        "url = 'https://raw.githubusercontent.com/rohittttt28/News_Scrapy/master/review.csv'\n",
        "df1 = pd.read_csv(url)"
      ],
      "execution_count": 3,
      "outputs": []
    },
    {
      "cell_type": "code",
      "metadata": {
        "id": "RG9vdDvmdC2o",
        "colab_type": "code",
        "colab": {}
      },
      "source": [
        "import pandas as pd\n",
        "import numpy as np \n",
        "import matplotlib.pyplot as plt \n",
        "import random\n",
        "import string\n",
        "import io\n",
        "\n",
        "#Input of csv \n",
        "df=pd.read_csv('https://raw.githubusercontent.com/rohittttt28/News_Scrapy/master/review.csv',usecols=[\"Review Text\"]).rename(columns={\"Review Text\": \"Review\"}).dropna()\n",
        "\n",
        "df['Review']=df['Review'].map(lambda x :x.lower()).map(lambda x:x.replace(\" \",\"\"))\n",
        "\n",
        "df['id']=[n for n in np.arange(len(df))]\n",
        "df=df.set_index('id')\n"
      ],
      "execution_count": 2,
      "outputs": []
    },
    {
      "cell_type": "code",
      "metadata": {
        "id": "XkIZ9wmzetE4",
        "colab_type": "code",
        "colab": {}
      },
      "source": [
        "def encrypt(text,s): \n",
        "    result = \"\" \n",
        "    th=str(text)\n",
        "    for i in range(len(th)): \n",
        "        char = th[i] \n",
        "        if (char.isupper()): \n",
        "            result += chr((ord(char) + s-65) % 26 + 65) \n",
        "        else: \n",
        "            result += chr((ord(char) + s - 97) % 26 + 97) \n",
        "  \n",
        "    return result"
      ],
      "execution_count": 4,
      "outputs": []
    },
    {
      "cell_type": "code",
      "metadata": {
        "id": "ue_SsRJ4ezaF",
        "colab_type": "code",
        "colab": {}
      },
      "source": [
        "cipher=[]\n",
        "key=[]\n",
        "for i in df[\"Review\"]:\n",
        "    j=np.random.randint(1,5)\n",
        "    key.append(j)\n",
        "    cipher.append(encrypt(i, j))\n",
        "    \n",
        "    \n",
        "    \n",
        "df['cipher']=cipher \n",
        "df['key']=key"
      ],
      "execution_count": 5,
      "outputs": []
    },
    {
      "cell_type": "code",
      "metadata": {
        "id": "8YVCN8XHdV1_",
        "colab_type": "code",
        "colab": {
          "base_uri": "https://localhost:8080/",
          "height": 431
        },
        "outputId": "99f99ac0-3ba8-4a28-afd3-52fbf55a8a36"
      },
      "source": [
        "df"
      ],
      "execution_count": 6,
      "outputs": [
        {
          "output_type": "execute_result",
          "data": {
            "text/html": [
              "<div>\n",
              "<style scoped>\n",
              "    .dataframe tbody tr th:only-of-type {\n",
              "        vertical-align: middle;\n",
              "    }\n",
              "\n",
              "    .dataframe tbody tr th {\n",
              "        vertical-align: top;\n",
              "    }\n",
              "\n",
              "    .dataframe thead th {\n",
              "        text-align: right;\n",
              "    }\n",
              "</style>\n",
              "<table border=\"1\" class=\"dataframe\">\n",
              "  <thead>\n",
              "    <tr style=\"text-align: right;\">\n",
              "      <th></th>\n",
              "      <th>Review</th>\n",
              "      <th>cipher</th>\n",
              "      <th>key</th>\n",
              "    </tr>\n",
              "    <tr>\n",
              "      <th>id</th>\n",
              "      <th></th>\n",
              "      <th></th>\n",
              "      <th></th>\n",
              "    </tr>\n",
              "  </thead>\n",
              "  <tbody>\n",
              "    <tr>\n",
              "      <th>0</th>\n",
              "      <td>absolutelywonderful-silkyandsexyandcomfortable</td>\n",
              "      <td>bctpmvufmzxpoefsgvmbtjmlzboetfyzboedpngpsubcmf</td>\n",
              "      <td>1</td>\n",
              "    </tr>\n",
              "    <tr>\n",
              "      <th>1</th>\n",
              "      <td>lovethisdress!it'ssooopretty.ihappenedtofindit...</td>\n",
              "      <td>oryhwklvguhvvrlwxvvrrrsuhwwbelkdsshqhgwrilqglw...</td>\n",
              "      <td>3</td>\n",
              "    </tr>\n",
              "    <tr>\n",
              "      <th>2</th>\n",
              "      <td>ihadsuchhighhopesforthisdressandreallywantedit...</td>\n",
              "      <td>mlehwygllmkllstiwjsvxlmwhviwwerhvieppcaerxihmx...</td>\n",
              "      <td>4</td>\n",
              "    </tr>\n",
              "    <tr>\n",
              "      <th>3</th>\n",
              "      <td>ilove,love,lovethisjumpsuit.it'sfun,flirty,and...</td>\n",
              "      <td>knqxgbnqxgbnqxgvjkulworuwkvdkvwuhwpbhnktvabcpf...</td>\n",
              "      <td>2</td>\n",
              "    </tr>\n",
              "    <tr>\n",
              "      <th>4</th>\n",
              "      <td>thisshirtisveryflatteringtoallduetotheadjustab...</td>\n",
              "      <td>wklvvkluwlvyhubiodwwhulqjwrdoogxhwrwkhdgmxvwde...</td>\n",
              "      <td>3</td>\n",
              "    </tr>\n",
              "    <tr>\n",
              "      <th>...</th>\n",
              "      <td>...</td>\n",
              "      <td>...</td>\n",
              "      <td>...</td>\n",
              "    </tr>\n",
              "    <tr>\n",
              "      <th>22636</th>\n",
              "      <td>iwasveryhappytosnagthisdressatsuchagreatprice!...</td>\n",
              "      <td>lzdvyhubkdssbwrvqdjwklvguhvvdwvxfkdjuhdwsulfhr...</td>\n",
              "      <td>3</td>\n",
              "    </tr>\n",
              "    <tr>\n",
              "      <th>22637</th>\n",
              "      <td>itremindsmeofmaternityclothes.soft,stretchy,sh...</td>\n",
              "      <td>lwuhplqgvphripdwhuqlwbforwkhvevriwcvwuhwfkbcvk...</td>\n",
              "      <td>3</td>\n",
              "    </tr>\n",
              "    <tr>\n",
              "      <th>22638</th>\n",
              "      <td>thisfitwell,butthetopwasveryseethrough.thisnev...</td>\n",
              "      <td>vjkuhkvygnnbdwvvjgvqrycuxgtauggvjtqwijdvjkupgx...</td>\n",
              "      <td>2</td>\n",
              "    </tr>\n",
              "    <tr>\n",
              "      <th>22639</th>\n",
              "      <td>iboughtthisdressforaweddingihavethissummer,and...</td>\n",
              "      <td>mfsyklxxlmwhviwwjsveaihhmrkmlezixlmwwyqqivderh...</td>\n",
              "      <td>4</td>\n",
              "    </tr>\n",
              "    <tr>\n",
              "      <th>22640</th>\n",
              "      <td>thisdressinalovelyplatinumisfeminineandfitsper...</td>\n",
              "      <td>uijtesfttjobmpwfmzqmbujovnjtgfnjojofboegjutqfs...</td>\n",
              "      <td>1</td>\n",
              "    </tr>\n",
              "  </tbody>\n",
              "</table>\n",
              "<p>22641 rows × 3 columns</p>\n",
              "</div>"
            ],
            "text/plain": [
              "                                                  Review  ... key\n",
              "id                                                        ...    \n",
              "0         absolutelywonderful-silkyandsexyandcomfortable  ...   1\n",
              "1      lovethisdress!it'ssooopretty.ihappenedtofindit...  ...   3\n",
              "2      ihadsuchhighhopesforthisdressandreallywantedit...  ...   4\n",
              "3      ilove,love,lovethisjumpsuit.it'sfun,flirty,and...  ...   2\n",
              "4      thisshirtisveryflatteringtoallduetotheadjustab...  ...   3\n",
              "...                                                  ...  ...  ..\n",
              "22636  iwasveryhappytosnagthisdressatsuchagreatprice!...  ...   3\n",
              "22637  itremindsmeofmaternityclothes.soft,stretchy,sh...  ...   3\n",
              "22638  thisfitwell,butthetopwasveryseethrough.thisnev...  ...   2\n",
              "22639  iboughtthisdressforaweddingihavethissummer,and...  ...   4\n",
              "22640  thisdressinalovelyplatinumisfeminineandfitsper...  ...   1\n",
              "\n",
              "[22641 rows x 3 columns]"
            ]
          },
          "metadata": {
            "tags": []
          },
          "execution_count": 6
        }
      ]
    },
    {
      "cell_type": "code",
      "metadata": {
        "id": "Zmonbbn7fIEa",
        "colab_type": "code",
        "colab": {
          "base_uri": "https://localhost:8080/",
          "height": 52
        },
        "outputId": "b0deda89-7e64-4043-a908-bf0207720007"
      },
      "source": [
        "df['cipher'][22639]"
      ],
      "execution_count": 7,
      "outputs": [
        {
          "output_type": "execute_result",
          "data": {
            "application/vnd.google.colaboratory.intrinsic+json": {
              "type": "string"
            },
            "text/plain": [
              "'mfsyklxxlmwhviwwjsveaihhmrkmlezixlmwwyqqivderhmxywwsgyxifyrjsvxyrexipcxlijmxmwryxtivjigxfxliqihmyqjmxwqcaemwxtivjigxpcdfyxaewaecxsspsrkerhxssfmkmrxlifywxerhwlsyphivwfmjmaerxihxswtirhxliqsricdmgsyphkixmxxempsvihdfyxmnywxjipxpmoimxqmklxrsxfiasvxlmxfwmhirsxiexlmwhviwwaewhipmzivihxsqiamxlersvhwxvsqxeksrmxerhmjsyrhmxqyglglietivxliviejxivpssomrks'"
            ]
          },
          "metadata": {
            "tags": []
          },
          "execution_count": 7
        }
      ]
    },
    {
      "cell_type": "code",
      "metadata": {
        "id": "J2cyE3lyfM7Y",
        "colab_type": "code",
        "colab": {}
      },
      "source": [
        "c=['e','t','a','o','i','n']\n",
        "from collections import Counter\n",
        "rl=[]\n",
        "for h in range(len(df)):\n",
        "    \n",
        "    mf = pd.Series(dict(Counter(df['cipher'][h]))).nlargest(6).index.values\n",
        "    x=[]\n",
        "    for i in range(6):\n",
        "        for j in range(6):\n",
        "            if ord(mf[i])-ord(c[j])>=0:\n",
        "                x.append(abs(ord(mf[i])-ord(c[j])))\n",
        "            \n",
        "            else:\n",
        "                x.append((ord(mf[i])-ord(c[j]))+26)\n",
        "    rl.append(x)            \n",
        "                "
      ],
      "execution_count": 8,
      "outputs": []
    },
    {
      "cell_type": "code",
      "metadata": {
        "id": "CaJeOfDpfZdf",
        "colab_type": "code",
        "colab": {}
      },
      "source": [
        "features=['f1','f2','f3','f4','f5','f6','f7','f8','f9','f10','f11','f12','f13','f14','f15','f16','f17','f18','f19','f20','f21','f22','f23','f24','f25','f26','f27','f28','f29','f30','f31','f32','f33','f34','f35','f36']\n",
        "df1=pd.DataFrame(rl,columns=features)"
      ],
      "execution_count": 9,
      "outputs": []
    },
    {
      "cell_type": "code",
      "metadata": {
        "id": "4_6LIYkHfax9",
        "colab_type": "code",
        "colab": {}
      },
      "source": [
        " df1['key']=df['key']"
      ],
      "execution_count": 10,
      "outputs": []
    },
    {
      "cell_type": "code",
      "metadata": {
        "id": "A2ID9e_Efa2H",
        "colab_type": "code",
        "colab": {
          "base_uri": "https://localhost:8080/",
          "height": 195
        },
        "outputId": "27314db7-b35f-4455-b1e3-090841711609"
      },
      "source": [
        "df1.head()"
      ],
      "execution_count": 11,
      "outputs": [
        {
          "output_type": "execute_result",
          "data": {
            "text/html": [
              "<div>\n",
              "<style scoped>\n",
              "    .dataframe tbody tr th:only-of-type {\n",
              "        vertical-align: middle;\n",
              "    }\n",
              "\n",
              "    .dataframe tbody tr th {\n",
              "        vertical-align: top;\n",
              "    }\n",
              "\n",
              "    .dataframe thead th {\n",
              "        text-align: right;\n",
              "    }\n",
              "</style>\n",
              "<table border=\"1\" class=\"dataframe\">\n",
              "  <thead>\n",
              "    <tr style=\"text-align: right;\">\n",
              "      <th></th>\n",
              "      <th>f1</th>\n",
              "      <th>f2</th>\n",
              "      <th>f3</th>\n",
              "      <th>f4</th>\n",
              "      <th>f5</th>\n",
              "      <th>f6</th>\n",
              "      <th>f7</th>\n",
              "      <th>f8</th>\n",
              "      <th>f9</th>\n",
              "      <th>f10</th>\n",
              "      <th>f11</th>\n",
              "      <th>f12</th>\n",
              "      <th>f13</th>\n",
              "      <th>f14</th>\n",
              "      <th>f15</th>\n",
              "      <th>f16</th>\n",
              "      <th>f17</th>\n",
              "      <th>f18</th>\n",
              "      <th>f19</th>\n",
              "      <th>f20</th>\n",
              "      <th>f21</th>\n",
              "      <th>f22</th>\n",
              "      <th>f23</th>\n",
              "      <th>f24</th>\n",
              "      <th>f25</th>\n",
              "      <th>f26</th>\n",
              "      <th>f27</th>\n",
              "      <th>f28</th>\n",
              "      <th>f29</th>\n",
              "      <th>f30</th>\n",
              "      <th>f31</th>\n",
              "      <th>f32</th>\n",
              "      <th>f33</th>\n",
              "      <th>f34</th>\n",
              "      <th>f35</th>\n",
              "      <th>f36</th>\n",
              "      <th>key</th>\n",
              "    </tr>\n",
              "  </thead>\n",
              "  <tbody>\n",
              "    <tr>\n",
              "      <th>0</th>\n",
              "      <td>23</td>\n",
              "      <td>8</td>\n",
              "      <td>1</td>\n",
              "      <td>13</td>\n",
              "      <td>19</td>\n",
              "      <td>14</td>\n",
              "      <td>8</td>\n",
              "      <td>19</td>\n",
              "      <td>12</td>\n",
              "      <td>24</td>\n",
              "      <td>4</td>\n",
              "      <td>25</td>\n",
              "      <td>11</td>\n",
              "      <td>22</td>\n",
              "      <td>15</td>\n",
              "      <td>1</td>\n",
              "      <td>7</td>\n",
              "      <td>2</td>\n",
              "      <td>1</td>\n",
              "      <td>12</td>\n",
              "      <td>5</td>\n",
              "      <td>17</td>\n",
              "      <td>23</td>\n",
              "      <td>18</td>\n",
              "      <td>15</td>\n",
              "      <td>0</td>\n",
              "      <td>19</td>\n",
              "      <td>5</td>\n",
              "      <td>11</td>\n",
              "      <td>6</td>\n",
              "      <td>21</td>\n",
              "      <td>6</td>\n",
              "      <td>25</td>\n",
              "      <td>11</td>\n",
              "      <td>17</td>\n",
              "      <td>12</td>\n",
              "      <td>1</td>\n",
              "    </tr>\n",
              "    <tr>\n",
              "      <th>1</th>\n",
              "      <td>3</td>\n",
              "      <td>14</td>\n",
              "      <td>7</td>\n",
              "      <td>19</td>\n",
              "      <td>25</td>\n",
              "      <td>20</td>\n",
              "      <td>18</td>\n",
              "      <td>3</td>\n",
              "      <td>22</td>\n",
              "      <td>8</td>\n",
              "      <td>14</td>\n",
              "      <td>9</td>\n",
              "      <td>7</td>\n",
              "      <td>18</td>\n",
              "      <td>11</td>\n",
              "      <td>23</td>\n",
              "      <td>3</td>\n",
              "      <td>24</td>\n",
              "      <td>13</td>\n",
              "      <td>24</td>\n",
              "      <td>17</td>\n",
              "      <td>3</td>\n",
              "      <td>9</td>\n",
              "      <td>4</td>\n",
              "      <td>2</td>\n",
              "      <td>13</td>\n",
              "      <td>6</td>\n",
              "      <td>18</td>\n",
              "      <td>24</td>\n",
              "      <td>19</td>\n",
              "      <td>12</td>\n",
              "      <td>23</td>\n",
              "      <td>16</td>\n",
              "      <td>2</td>\n",
              "      <td>8</td>\n",
              "      <td>3</td>\n",
              "      <td>3</td>\n",
              "    </tr>\n",
              "    <tr>\n",
              "      <th>2</th>\n",
              "      <td>4</td>\n",
              "      <td>15</td>\n",
              "      <td>8</td>\n",
              "      <td>20</td>\n",
              "      <td>0</td>\n",
              "      <td>21</td>\n",
              "      <td>19</td>\n",
              "      <td>4</td>\n",
              "      <td>23</td>\n",
              "      <td>9</td>\n",
              "      <td>15</td>\n",
              "      <td>10</td>\n",
              "      <td>0</td>\n",
              "      <td>11</td>\n",
              "      <td>4</td>\n",
              "      <td>16</td>\n",
              "      <td>22</td>\n",
              "      <td>17</td>\n",
              "      <td>8</td>\n",
              "      <td>19</td>\n",
              "      <td>12</td>\n",
              "      <td>24</td>\n",
              "      <td>4</td>\n",
              "      <td>25</td>\n",
              "      <td>14</td>\n",
              "      <td>25</td>\n",
              "      <td>18</td>\n",
              "      <td>4</td>\n",
              "      <td>10</td>\n",
              "      <td>5</td>\n",
              "      <td>11</td>\n",
              "      <td>22</td>\n",
              "      <td>15</td>\n",
              "      <td>1</td>\n",
              "      <td>7</td>\n",
              "      <td>2</td>\n",
              "      <td>4</td>\n",
              "    </tr>\n",
              "    <tr>\n",
              "      <th>3</th>\n",
              "      <td>6</td>\n",
              "      <td>17</td>\n",
              "      <td>10</td>\n",
              "      <td>22</td>\n",
              "      <td>2</td>\n",
              "      <td>23</td>\n",
              "      <td>17</td>\n",
              "      <td>2</td>\n",
              "      <td>21</td>\n",
              "      <td>7</td>\n",
              "      <td>13</td>\n",
              "      <td>8</td>\n",
              "      <td>2</td>\n",
              "      <td>13</td>\n",
              "      <td>6</td>\n",
              "      <td>18</td>\n",
              "      <td>24</td>\n",
              "      <td>19</td>\n",
              "      <td>12</td>\n",
              "      <td>23</td>\n",
              "      <td>16</td>\n",
              "      <td>2</td>\n",
              "      <td>8</td>\n",
              "      <td>3</td>\n",
              "      <td>18</td>\n",
              "      <td>3</td>\n",
              "      <td>22</td>\n",
              "      <td>8</td>\n",
              "      <td>14</td>\n",
              "      <td>9</td>\n",
              "      <td>9</td>\n",
              "      <td>20</td>\n",
              "      <td>13</td>\n",
              "      <td>25</td>\n",
              "      <td>5</td>\n",
              "      <td>0</td>\n",
              "      <td>2</td>\n",
              "    </tr>\n",
              "    <tr>\n",
              "      <th>4</th>\n",
              "      <td>18</td>\n",
              "      <td>3</td>\n",
              "      <td>22</td>\n",
              "      <td>8</td>\n",
              "      <td>14</td>\n",
              "      <td>9</td>\n",
              "      <td>3</td>\n",
              "      <td>14</td>\n",
              "      <td>7</td>\n",
              "      <td>19</td>\n",
              "      <td>25</td>\n",
              "      <td>20</td>\n",
              "      <td>7</td>\n",
              "      <td>18</td>\n",
              "      <td>11</td>\n",
              "      <td>23</td>\n",
              "      <td>3</td>\n",
              "      <td>24</td>\n",
              "      <td>17</td>\n",
              "      <td>2</td>\n",
              "      <td>21</td>\n",
              "      <td>7</td>\n",
              "      <td>13</td>\n",
              "      <td>8</td>\n",
              "      <td>10</td>\n",
              "      <td>21</td>\n",
              "      <td>14</td>\n",
              "      <td>0</td>\n",
              "      <td>6</td>\n",
              "      <td>1</td>\n",
              "      <td>25</td>\n",
              "      <td>10</td>\n",
              "      <td>3</td>\n",
              "      <td>15</td>\n",
              "      <td>21</td>\n",
              "      <td>16</td>\n",
              "      <td>3</td>\n",
              "    </tr>\n",
              "  </tbody>\n",
              "</table>\n",
              "</div>"
            ],
            "text/plain": [
              "   f1  f2  f3  f4  f5  f6  f7  f8  ...  f30  f31  f32  f33  f34  f35  f36  key\n",
              "0  23   8   1  13  19  14   8  19  ...    6   21    6   25   11   17   12    1\n",
              "1   3  14   7  19  25  20  18   3  ...   19   12   23   16    2    8    3    3\n",
              "2   4  15   8  20   0  21  19   4  ...    5   11   22   15    1    7    2    4\n",
              "3   6  17  10  22   2  23  17   2  ...    9    9   20   13   25    5    0    2\n",
              "4  18   3  22   8  14   9   3  14  ...    1   25   10    3   15   21   16    3\n",
              "\n",
              "[5 rows x 37 columns]"
            ]
          },
          "metadata": {
            "tags": []
          },
          "execution_count": 11
        }
      ]
    },
    {
      "cell_type": "code",
      "metadata": {
        "id": "dfmqP7xXfauG",
        "colab_type": "code",
        "colab": {}
      },
      "source": [
        "from sklearn.model_selection import train_test_split\n",
        "X=df1.drop(labels='key',axis=1)\n",
        "y=df1['key']\n",
        "X_train, X_test, y_train, y_test = train_test_split(X, y, random_state=0)"
      ],
      "execution_count": 12,
      "outputs": []
    },
    {
      "cell_type": "code",
      "metadata": {
        "id": "dssReYBWfapp",
        "colab_type": "code",
        "colab": {}
      },
      "source": [
        "from sklearn.neighbors import KNeighborsClassifier\n",
        "\n",
        "knn = KNeighborsClassifier(n_neighbors = 1)"
      ],
      "execution_count": 13,
      "outputs": []
    },
    {
      "cell_type": "code",
      "metadata": {
        "id": "JqrewdWAfakA",
        "colab_type": "code",
        "colab": {
          "base_uri": "https://localhost:8080/",
          "height": 67
        },
        "outputId": "fd9cddad-0b1c-4ace-d2ba-2c25d1494889"
      },
      "source": [
        "knn.fit(X_train, y_train)"
      ],
      "execution_count": 14,
      "outputs": [
        {
          "output_type": "execute_result",
          "data": {
            "text/plain": [
              "KNeighborsClassifier(algorithm='auto', leaf_size=30, metric='minkowski',\n",
              "                     metric_params=None, n_jobs=None, n_neighbors=1, p=2,\n",
              "                     weights='uniform')"
            ]
          },
          "metadata": {
            "tags": []
          },
          "execution_count": 14
        }
      ]
    },
    {
      "cell_type": "code",
      "metadata": {
        "id": "utPpnX89ftzd",
        "colab_type": "code",
        "colab": {
          "base_uri": "https://localhost:8080/",
          "height": 34
        },
        "outputId": "162a6b3c-5274-463b-cfe1-111b44f8242b"
      },
      "source": [
        "knn.score(X_test, y_test)"
      ],
      "execution_count": 15,
      "outputs": [
        {
          "output_type": "execute_result",
          "data": {
            "text/plain": [
              "0.8800565271153507"
            ]
          },
          "metadata": {
            "tags": []
          },
          "execution_count": 15
        }
      ]
    },
    {
      "cell_type": "code",
      "metadata": {
        "id": "uqQAYWrSfw4Y",
        "colab_type": "code",
        "colab": {
          "base_uri": "https://localhost:8080/",
          "height": 279
        },
        "outputId": "d16b92f2-61ee-4d28-b19b-08099aad0ecb"
      },
      "source": [
        "k_range = range(1,20)\n",
        "scores = []\n",
        "\n",
        "for k in k_range:\n",
        "    knn = KNeighborsClassifier(n_neighbors = k)\n",
        "    knn.fit(X_train, y_train)\n",
        "    scores.append(knn.score(X_test, y_test))\n",
        "\n",
        "plt.figure()\n",
        "plt.xlabel('k')\n",
        "plt.ylabel('accuracy')\n",
        "plt.scatter(k_range, scores)\n",
        "plt.xticks([0,5,10,15,20]);"
      ],
      "execution_count": 16,
      "outputs": [
        {
          "output_type": "display_data",
          "data": {
            "image/png": "[encoded data removed]",
            "text/plain": [
              "<Figure size 432x288 with 1 Axes>"
            ]
          },
          "metadata": {
            "tags": [],
            "needs_background": "light"
          }
        }
      ]
    },
    {
      "cell_type": "markdown",
      "metadata": {
        "id": "nC-6USMFhovL",
        "colab_type": "text"
      },
      "source": [
        "**Let's do it Naive Bayes Classifier**"
      ]
    },
    {
      "cell_type": "code",
      "metadata": {
        "id": "9DpJshomgiBn",
        "colab_type": "code",
        "colab": {}
      },
      "source": [
        "from sklearn.naive_bayes import MultinomialNB\n",
        "from sklearn import metrics\n"
      ],
      "execution_count": 17,
      "outputs": []
    },
    {
      "cell_type": "code",
      "metadata": {
        "id": "RMW_TnwmnXDC",
        "colab_type": "code",
        "colab": {
          "base_uri": "https://localhost:8080/",
          "height": 34
        },
        "outputId": "af973ed7-0da7-476d-f8e2-194473f55b01"
      },
      "source": [
        "model=MultinomialNB()\n",
        "model.fit(X_train,y_train)"
      ],
      "execution_count": 18,
      "outputs": [
        {
          "output_type": "execute_result",
          "data": {
            "text/plain": [
              "MultinomialNB(alpha=1.0, class_prior=None, fit_prior=True)"
            ]
          },
          "metadata": {
            "tags": []
          },
          "execution_count": 18
        }
      ]
    },
    {
      "cell_type": "code",
      "metadata": {
        "id": "XdgunK5TnlqC",
        "colab_type": "code",
        "colab": {
          "base_uri": "https://localhost:8080/",
          "height": 34
        },
        "outputId": "d28f7d5c-b009-40f3-83ff-b2ac5ef33ab9"
      },
      "source": [
        "print(\"Accuracy:\",metrics.accuracy_score(y_test,model.predict(X_test)))"
      ],
      "execution_count": 19,
      "outputs": [
        {
          "output_type": "stream",
          "text": [
            "Accuracy: 0.5248189365836424\n"
          ],
          "name": "stdout"
        }
      ]
    },
    {
      "cell_type": "code",
      "metadata": {
        "id": "v1QBcgesn38c",
        "colab_type": "code",
        "colab": {
          "base_uri": "https://localhost:8080/",
          "height": 34
        },
        "outputId": "f29bf521-f508-4eba-dc27-4eaf1adac875"
      },
      "source": [
        "from sklearn.naive_bayes import GaussianNB\n",
        "clf = GaussianNB()\n",
        "clf.fit(X_train,y_train)"
      ],
      "execution_count": 20,
      "outputs": [
        {
          "output_type": "execute_result",
          "data": {
            "text/plain": [
              "GaussianNB(priors=None, var_smoothing=1e-09)"
            ]
          },
          "metadata": {
            "tags": []
          },
          "execution_count": 20
        }
      ]
    },
    {
      "cell_type": "code",
      "metadata": {
        "id": "fTED1CTvoOLc",
        "colab_type": "code",
        "colab": {
          "base_uri": "https://localhost:8080/",
          "height": 34
        },
        "outputId": "01b2efad-9862-41bb-8f82-fe870cb8bb74"
      },
      "source": [
        "print(\"Accuracy:\",metrics.accuracy_score(y_test,clf.predict(X_test)))"
      ],
      "execution_count": 21,
      "outputs": [
        {
          "output_type": "stream",
          "text": [
            "Accuracy: 0.6369899311075782\n"
          ],
          "name": "stdout"
        }
      ]
    },
    {
      "cell_type": "code",
      "metadata": {
        "id": "sAATKVFqoVIh",
        "colab_type": "code",
        "colab": {}
      },
      "source": [
        ""
      ],
      "execution_count": 21,
      "outputs": []
    },
    {
      "cell_type": "code",
      "metadata": {
        "id": "t7AaakKxqBI6",
        "colab_type": "code",
        "colab": {
          "base_uri": "https://localhost:8080/",
          "height": 402
        },
        "outputId": "70bcd461-539f-4dab-ed10-33d9ad90f169"
      },
      "source": [
        "df2 = pd.read_csv('https://raw.githubusercontent.com/rohittttt28/News_Scrapy/master/new_review.csv',usecols=[\"Reviews\"])\n",
        "df2\n",
        "\n"
      ],
      "execution_count": 22,
      "outputs": [
        {
          "output_type": "execute_result",
          "data": {
            "text/html": [
              "<div>\n",
              "<style scoped>\n",
              "    .dataframe tbody tr th:only-of-type {\n",
              "        vertical-align: middle;\n",
              "    }\n",
              "\n",
              "    .dataframe tbody tr th {\n",
              "        vertical-align: top;\n",
              "    }\n",
              "\n",
              "    .dataframe thead th {\n",
              "        text-align: right;\n",
              "    }\n",
              "</style>\n",
              "<table border=\"1\" class=\"dataframe\">\n",
              "  <thead>\n",
              "    <tr style=\"text-align: right;\">\n",
              "      <th></th>\n",
              "      <th>Reviews</th>\n",
              "    </tr>\n",
              "  </thead>\n",
              "  <tbody>\n",
              "    <tr>\n",
              "      <th>0</th>\n",
              "      <td>I feel so LUCKY to have found this used (phone...</td>\n",
              "    </tr>\n",
              "    <tr>\n",
              "      <th>1</th>\n",
              "      <td>nice phone, nice up grade from my pantach revu...</td>\n",
              "    </tr>\n",
              "    <tr>\n",
              "      <th>2</th>\n",
              "      <td>Very pleased</td>\n",
              "    </tr>\n",
              "    <tr>\n",
              "      <th>3</th>\n",
              "      <td>It works good but it goes slow sometimes but i...</td>\n",
              "    </tr>\n",
              "    <tr>\n",
              "      <th>4</th>\n",
              "      <td>Great phone to replace my lost phone. The only...</td>\n",
              "    </tr>\n",
              "    <tr>\n",
              "      <th>...</th>\n",
              "      <td>...</td>\n",
              "    </tr>\n",
              "    <tr>\n",
              "      <th>1594</th>\n",
              "      <td>its perfert! Had everything I expected.</td>\n",
              "    </tr>\n",
              "    <tr>\n",
              "      <th>1595</th>\n",
              "      <td>Great phone for the price and the headset is a...</td>\n",
              "    </tr>\n",
              "    <tr>\n",
              "      <th>1596</th>\n",
              "      <td>CONNECTION ON PHONE CALLS IS TERRIBLE, DOES NO...</td>\n",
              "    </tr>\n",
              "    <tr>\n",
              "      <th>1597</th>\n",
              "      <td>BUY A CASE, BUY A CASE BUY A CASE! every revie...</td>\n",
              "    </tr>\n",
              "    <tr>\n",
              "      <th>1598</th>\n",
              "      <td>Nice phone, fast but it heat up very quick and...</td>\n",
              "    </tr>\n",
              "  </tbody>\n",
              "</table>\n",
              "<p>1599 rows × 1 columns</p>\n",
              "</div>"
            ],
            "text/plain": [
              "                                                Reviews\n",
              "0     I feel so LUCKY to have found this used (phone...\n",
              "1     nice phone, nice up grade from my pantach revu...\n",
              "2                                          Very pleased\n",
              "3     It works good but it goes slow sometimes but i...\n",
              "4     Great phone to replace my lost phone. The only...\n",
              "...                                                 ...\n",
              "1594            its perfert! Had everything I expected.\n",
              "1595  Great phone for the price and the headset is a...\n",
              "1596  CONNECTION ON PHONE CALLS IS TERRIBLE, DOES NO...\n",
              "1597  BUY A CASE, BUY A CASE BUY A CASE! every revie...\n",
              "1598  Nice phone, fast but it heat up very quick and...\n",
              "\n",
              "[1599 rows x 1 columns]"
            ]
          },
          "metadata": {
            "tags": []
          },
          "execution_count": 22
        }
      ]
    },
    {
      "cell_type": "code",
      "metadata": {
        "id": "b9U01VAhyX2c",
        "colab_type": "code",
        "colab": {
          "base_uri": "https://localhost:8080/",
          "height": 118
        },
        "outputId": "b34ecfab-72d0-4c42-c2e7-7f9433fe9036"
      },
      "source": [
        "df2['Review']=df2['Reviews'].map(lambda x :x.lower()).map(lambda x:x.replace(\" \",\"\"))\n",
        "df2['Review1']=df2['Review'].map(lambda x:len(x)>26)\n",
        "df3=df2[df2['Review1']==True]\n",
        "df3['id']=[n for n in np.arange(len(df3))]\n",
        "\n",
        "df3=df3.set_index('id')"
      ],
      "execution_count": 23,
      "outputs": [
        {
          "output_type": "stream",
          "text": [
            "/usr/local/lib/python3.6/dist-packages/ipykernel_launcher.py:4: SettingWithCopyWarning: \n",
            "A value is trying to be set on a copy of a slice from a DataFrame.\n",
            "Try using .loc[row_indexer,col_indexer] = value instead\n",
            "\n",
            "See the caveats in the documentation: https://pandas.pydata.org/pandas-docs/stable/user_guide/indexing.html#returning-a-view-versus-a-copy\n",
            "  after removing the cwd from sys.path.\n"
          ],
          "name": "stderr"
        }
      ]
    },
    {
      "cell_type": "code",
      "metadata": {
        "id": "d7NMKFtLzJbG",
        "colab_type": "code",
        "colab": {
          "base_uri": "https://localhost:8080/",
          "height": 431
        },
        "outputId": "b2baf68d-8b13-4321-ef04-97a8f2dd50d4"
      },
      "source": [
        "df3"
      ],
      "execution_count": 24,
      "outputs": [
        {
          "output_type": "execute_result",
          "data": {
            "text/html": [
              "<div>\n",
              "<style scoped>\n",
              "    .dataframe tbody tr th:only-of-type {\n",
              "        vertical-align: middle;\n",
              "    }\n",
              "\n",
              "    .dataframe tbody tr th {\n",
              "        vertical-align: top;\n",
              "    }\n",
              "\n",
              "    .dataframe thead th {\n",
              "        text-align: right;\n",
              "    }\n",
              "</style>\n",
              "<table border=\"1\" class=\"dataframe\">\n",
              "  <thead>\n",
              "    <tr style=\"text-align: right;\">\n",
              "      <th></th>\n",
              "      <th>Reviews</th>\n",
              "      <th>Review</th>\n",
              "      <th>Review1</th>\n",
              "    </tr>\n",
              "    <tr>\n",
              "      <th>id</th>\n",
              "      <th></th>\n",
              "      <th></th>\n",
              "      <th></th>\n",
              "    </tr>\n",
              "  </thead>\n",
              "  <tbody>\n",
              "    <tr>\n",
              "      <th>0</th>\n",
              "      <td>I feel so LUCKY to have found this used (phone...</td>\n",
              "      <td>ifeelsoluckytohavefoundthisused(phonetous&amp;notu...</td>\n",
              "      <td>True</td>\n",
              "    </tr>\n",
              "    <tr>\n",
              "      <th>1</th>\n",
              "      <td>nice phone, nice up grade from my pantach revu...</td>\n",
              "      <td>nicephone,niceupgradefrommypantachrevue.verycl...</td>\n",
              "      <td>True</td>\n",
              "    </tr>\n",
              "    <tr>\n",
              "      <th>2</th>\n",
              "      <td>It works good but it goes slow sometimes but i...</td>\n",
              "      <td>itworksgoodbutitgoesslowsometimesbutitsaverygo...</td>\n",
              "      <td>True</td>\n",
              "    </tr>\n",
              "    <tr>\n",
              "      <th>3</th>\n",
              "      <td>Great phone to replace my lost phone. The only...</td>\n",
              "      <td>greatphonetoreplacemylostphone.theonlythingist...</td>\n",
              "      <td>True</td>\n",
              "    </tr>\n",
              "    <tr>\n",
              "      <th>4</th>\n",
              "      <td>I already had a phone with problems... I know ...</td>\n",
              "      <td>ialreadyhadaphonewithproblems...iknowitstatedi...</td>\n",
              "      <td>True</td>\n",
              "    </tr>\n",
              "    <tr>\n",
              "      <th>...</th>\n",
              "      <td>...</td>\n",
              "      <td>...</td>\n",
              "      <td>...</td>\n",
              "    </tr>\n",
              "    <tr>\n",
              "      <th>1126</th>\n",
              "      <td>its perfert! Had everything I expected.</td>\n",
              "      <td>itsperfert!hadeverythingiexpected.</td>\n",
              "      <td>True</td>\n",
              "    </tr>\n",
              "    <tr>\n",
              "      <th>1127</th>\n",
              "      <td>Great phone for the price and the headset is a...</td>\n",
              "      <td>greatphoneforthepriceandtheheadsetisagreatperk...</td>\n",
              "      <td>True</td>\n",
              "    </tr>\n",
              "    <tr>\n",
              "      <th>1128</th>\n",
              "      <td>CONNECTION ON PHONE CALLS IS TERRIBLE, DOES NO...</td>\n",
              "      <td>connectiononphonecallsisterrible,doesnotkeeptr...</td>\n",
              "      <td>True</td>\n",
              "    </tr>\n",
              "    <tr>\n",
              "      <th>1129</th>\n",
              "      <td>BUY A CASE, BUY A CASE BUY A CASE! every revie...</td>\n",
              "      <td>buyacase,buyacasebuyacase!everyrevierandunboxi...</td>\n",
              "      <td>True</td>\n",
              "    </tr>\n",
              "    <tr>\n",
              "      <th>1130</th>\n",
              "      <td>Nice phone, fast but it heat up very quick and...</td>\n",
              "      <td>nicephone,fastbutitheatupveryquickandcooldownq...</td>\n",
              "      <td>True</td>\n",
              "    </tr>\n",
              "  </tbody>\n",
              "</table>\n",
              "<p>1131 rows × 3 columns</p>\n",
              "</div>"
            ],
            "text/plain": [
              "                                                Reviews  ... Review1\n",
              "id                                                       ...        \n",
              "0     I feel so LUCKY to have found this used (phone...  ...    True\n",
              "1     nice phone, nice up grade from my pantach revu...  ...    True\n",
              "2     It works good but it goes slow sometimes but i...  ...    True\n",
              "3     Great phone to replace my lost phone. The only...  ...    True\n",
              "4     I already had a phone with problems... I know ...  ...    True\n",
              "...                                                 ...  ...     ...\n",
              "1126            its perfert! Had everything I expected.  ...    True\n",
              "1127  Great phone for the price and the headset is a...  ...    True\n",
              "1128  CONNECTION ON PHONE CALLS IS TERRIBLE, DOES NO...  ...    True\n",
              "1129  BUY A CASE, BUY A CASE BUY A CASE! every revie...  ...    True\n",
              "1130  Nice phone, fast but it heat up very quick and...  ...    True\n",
              "\n",
              "[1131 rows x 3 columns]"
            ]
          },
          "metadata": {
            "tags": []
          },
          "execution_count": 24
        }
      ]
    },
    {
      "cell_type": "code",
      "metadata": {
        "id": "PBGtRmFRczI_",
        "colab_type": "code",
        "colab": {}
      },
      "source": [
        "cipher=[]\n",
        "key=[]\n",
        "for i in df3[\"Review\"]:\n",
        "    j=np.random.randint(1,5)\n",
        "    key.append(j)\n",
        "    cipher.append(encrypt(i, j))\n",
        "    \n",
        "    \n",
        "    \n",
        "df3['cipher']=cipher \n",
        "df3['key']=key"
      ],
      "execution_count": 25,
      "outputs": []
    },
    {
      "cell_type": "code",
      "metadata": {
        "id": "62_SoMecdLW6",
        "colab_type": "code",
        "colab": {
          "base_uri": "https://localhost:8080/",
          "height": 431
        },
        "outputId": "a762083d-d273-4269-ac16-0957240684c8"
      },
      "source": [
        "df3"
      ],
      "execution_count": 26,
      "outputs": [
        {
          "output_type": "execute_result",
          "data": {
            "text/html": [
              "<div>\n",
              "<style scoped>\n",
              "    .dataframe tbody tr th:only-of-type {\n",
              "        vertical-align: middle;\n",
              "    }\n",
              "\n",
              "    .dataframe tbody tr th {\n",
              "        vertical-align: top;\n",
              "    }\n",
              "\n",
              "    .dataframe thead th {\n",
              "        text-align: right;\n",
              "    }\n",
              "</style>\n",
              "<table border=\"1\" class=\"dataframe\">\n",
              "  <thead>\n",
              "    <tr style=\"text-align: right;\">\n",
              "      <th></th>\n",
              "      <th>Reviews</th>\n",
              "      <th>Review</th>\n",
              "      <th>Review1</th>\n",
              "      <th>cipher</th>\n",
              "      <th>key</th>\n",
              "    </tr>\n",
              "    <tr>\n",
              "      <th>id</th>\n",
              "      <th></th>\n",
              "      <th></th>\n",
              "      <th></th>\n",
              "      <th></th>\n",
              "      <th></th>\n",
              "    </tr>\n",
              "  </thead>\n",
              "  <tbody>\n",
              "    <tr>\n",
              "      <th>0</th>\n",
              "      <td>I feel so LUCKY to have found this used (phone...</td>\n",
              "      <td>ifeelsoluckytohavefoundthisused(phonetous&amp;notu...</td>\n",
              "      <td>True</td>\n",
              "      <td>jgffmtpmvdlzupibwfgpvoeuijtvtfewqipofupvtuopuv...</td>\n",
              "      <td>1</td>\n",
              "    </tr>\n",
              "    <tr>\n",
              "      <th>1</th>\n",
              "      <td>nice phone, nice up grade from my pantach revu...</td>\n",
              "      <td>nicephone,niceupgradefrommypantachrevue.verycl...</td>\n",
              "      <td>True</td>\n",
              "      <td>ojdfqipofaojdfvqhsbefgspnnzqboubdisfwvfcwfszdm...</td>\n",
              "      <td>1</td>\n",
              "    </tr>\n",
              "    <tr>\n",
              "      <th>2</th>\n",
              "      <td>It works good but it goes slow sometimes but i...</td>\n",
              "      <td>itworksgoodbutitgoesslowsometimesbutitsaverygo...</td>\n",
              "      <td>True</td>\n",
              "      <td>lwzrunvjrrgexwlwjrhvvorzvrphwlphvexwlwvdyhubjr...</td>\n",
              "      <td>3</td>\n",
              "    </tr>\n",
              "    <tr>\n",
              "      <th>3</th>\n",
              "      <td>Great phone to replace my lost phone. The only...</td>\n",
              "      <td>greatphonetoreplacemylostphone.theonlythingist...</td>\n",
              "      <td>True</td>\n",
              "      <td>kviextlsrixsvitpegiqcpswxtlsrifxlisrpcxlmrkmwx...</td>\n",
              "      <td>4</td>\n",
              "    </tr>\n",
              "    <tr>\n",
              "      <th>4</th>\n",
              "      <td>I already had a phone with problems... I know ...</td>\n",
              "      <td>ialreadyhadaphonewithproblems...iknowitstatedi...</td>\n",
              "      <td>True</td>\n",
              "      <td>mepviehclehetlsriamxltvsfpiqwfffmorsamxwxexihm...</td>\n",
              "      <td>4</td>\n",
              "    </tr>\n",
              "    <tr>\n",
              "      <th>...</th>\n",
              "      <td>...</td>\n",
              "      <td>...</td>\n",
              "      <td>...</td>\n",
              "      <td>...</td>\n",
              "      <td>...</td>\n",
              "    </tr>\n",
              "    <tr>\n",
              "      <th>1126</th>\n",
              "      <td>its perfert! Had everything I expected.</td>\n",
              "      <td>itsperfert!hadeverythingiexpected.</td>\n",
              "      <td>True</td>\n",
              "      <td>jutqfsgfsupibefwfszuijohjfyqfdufec</td>\n",
              "      <td>1</td>\n",
              "    </tr>\n",
              "    <tr>\n",
              "      <th>1127</th>\n",
              "      <td>Great phone for the price and the headset is a...</td>\n",
              "      <td>greatphoneforthepriceandtheheadsetisagreatperk...</td>\n",
              "      <td>True</td>\n",
              "      <td>hsfbuqipofgpsuifqsjdfboeuififbetfujtbhsfbuqfsl...</td>\n",
              "      <td>1</td>\n",
              "    </tr>\n",
              "    <tr>\n",
              "      <th>1128</th>\n",
              "      <td>CONNECTION ON PHONE CALLS IS TERRIBLE, DOES NO...</td>\n",
              "      <td>connectiononphonecallsisterrible,doesnotkeeptr...</td>\n",
              "      <td>True</td>\n",
              "      <td>frqqhfwlrqrqskrqhfdoovlvwhuuleohcgrhvqrwnhhswu...</td>\n",
              "      <td>3</td>\n",
              "    </tr>\n",
              "    <tr>\n",
              "      <th>1129</th>\n",
              "      <td>BUY A CASE, BUY A CASE BUY A CASE! every revie...</td>\n",
              "      <td>buyacase,buyacasebuyacase!everyrevierandunboxi...</td>\n",
              "      <td>True</td>\n",
              "      <td>exbdfdvhcexbdfdvhexbdfdvhrhyhubuhylhudqgxqeral...</td>\n",
              "      <td>3</td>\n",
              "    </tr>\n",
              "    <tr>\n",
              "      <th>1130</th>\n",
              "      <td>Nice phone, fast but it heat up very quick and...</td>\n",
              "      <td>nicephone,fastbutitheatupveryquickandcooldownq...</td>\n",
              "      <td>True</td>\n",
              "      <td>pkegrjqpgbhcuvdwvkvjgcvwrxgtaswkemcpfeqqnfqyps...</td>\n",
              "      <td>2</td>\n",
              "    </tr>\n",
              "  </tbody>\n",
              "</table>\n",
              "<p>1131 rows × 5 columns</p>\n",
              "</div>"
            ],
            "text/plain": [
              "                                                Reviews  ... key\n",
              "id                                                       ...    \n",
              "0     I feel so LUCKY to have found this used (phone...  ...   1\n",
              "1     nice phone, nice up grade from my pantach revu...  ...   1\n",
              "2     It works good but it goes slow sometimes but i...  ...   3\n",
              "3     Great phone to replace my lost phone. The only...  ...   4\n",
              "4     I already had a phone with problems... I know ...  ...   4\n",
              "...                                                 ...  ...  ..\n",
              "1126            its perfert! Had everything I expected.  ...   1\n",
              "1127  Great phone for the price and the headset is a...  ...   1\n",
              "1128  CONNECTION ON PHONE CALLS IS TERRIBLE, DOES NO...  ...   3\n",
              "1129  BUY A CASE, BUY A CASE BUY A CASE! every revie...  ...   3\n",
              "1130  Nice phone, fast but it heat up very quick and...  ...   2\n",
              "\n",
              "[1131 rows x 5 columns]"
            ]
          },
          "metadata": {
            "tags": []
          },
          "execution_count": 26
        }
      ]
    },
    {
      "cell_type": "code",
      "metadata": {
        "id": "IoJb3cPgdMZd",
        "colab_type": "code",
        "colab": {}
      },
      "source": [
        "c=['e','t','a','o','i','n']\n",
        "from collections import Counter\n",
        "rl=[]\n",
        "for h in range(len(df3)):\n",
        "    \n",
        "    mf = pd.Series(dict(Counter(df3['cipher'][h]))).nlargest(6).index.values\n",
        "    x=[]\n",
        "    for i in range(6):\n",
        "        for j in range(6):\n",
        "            if ord(mf[i])-ord(c[j])>=0:\n",
        "                x.append(abs(ord(mf[i])-ord(c[j])))\n",
        "            \n",
        "            else:\n",
        "                x.append((ord(mf[i])-ord(c[j]))+26)\n",
        "    rl.append(x)            \n",
        "                "
      ],
      "execution_count": 27,
      "outputs": []
    },
    {
      "cell_type": "code",
      "metadata": {
        "id": "oYozECx1dlPU",
        "colab_type": "code",
        "colab": {}
      },
      "source": [
        "features=['f1','f2','f3','f4','f5','f6','f7','f8','f9','f10','f11','f12','f13','f14','f15','f16','f17','f18','f19','f20','f21','f22','f23','f24','f25','f26','f27','f28','f29','f30','f31','f32','f33','f34','f35','f36']\n",
        "df8=pd.DataFrame(rl,columns=features)"
      ],
      "execution_count": 28,
      "outputs": []
    },
    {
      "cell_type": "code",
      "metadata": {
        "id": "x2UcbQ98zVzq",
        "colab_type": "code",
        "colab": {
          "base_uri": "https://localhost:8080/",
          "height": 402
        },
        "outputId": "3bb2c8f6-aa36-4949-e997-9c5ad6ef489e"
      },
      "source": [
        "df8['key']=df3['key']\n",
        "df8"
      ],
      "execution_count": 29,
      "outputs": [
        {
          "output_type": "execute_result",
          "data": {
            "text/html": [
              "<div>\n",
              "<style scoped>\n",
              "    .dataframe tbody tr th:only-of-type {\n",
              "        vertical-align: middle;\n",
              "    }\n",
              "\n",
              "    .dataframe tbody tr th {\n",
              "        vertical-align: top;\n",
              "    }\n",
              "\n",
              "    .dataframe thead th {\n",
              "        text-align: right;\n",
              "    }\n",
              "</style>\n",
              "<table border=\"1\" class=\"dataframe\">\n",
              "  <thead>\n",
              "    <tr style=\"text-align: right;\">\n",
              "      <th></th>\n",
              "      <th>f1</th>\n",
              "      <th>f2</th>\n",
              "      <th>f3</th>\n",
              "      <th>f4</th>\n",
              "      <th>f5</th>\n",
              "      <th>f6</th>\n",
              "      <th>f7</th>\n",
              "      <th>f8</th>\n",
              "      <th>f9</th>\n",
              "      <th>f10</th>\n",
              "      <th>f11</th>\n",
              "      <th>f12</th>\n",
              "      <th>f13</th>\n",
              "      <th>f14</th>\n",
              "      <th>f15</th>\n",
              "      <th>f16</th>\n",
              "      <th>f17</th>\n",
              "      <th>f18</th>\n",
              "      <th>f19</th>\n",
              "      <th>f20</th>\n",
              "      <th>f21</th>\n",
              "      <th>f22</th>\n",
              "      <th>f23</th>\n",
              "      <th>f24</th>\n",
              "      <th>f25</th>\n",
              "      <th>f26</th>\n",
              "      <th>f27</th>\n",
              "      <th>f28</th>\n",
              "      <th>f29</th>\n",
              "      <th>f30</th>\n",
              "      <th>f31</th>\n",
              "      <th>f32</th>\n",
              "      <th>f33</th>\n",
              "      <th>f34</th>\n",
              "      <th>f35</th>\n",
              "      <th>f36</th>\n",
              "      <th>key</th>\n",
              "    </tr>\n",
              "  </thead>\n",
              "  <tbody>\n",
              "    <tr>\n",
              "      <th>0</th>\n",
              "      <td>1</td>\n",
              "      <td>12</td>\n",
              "      <td>5</td>\n",
              "      <td>17</td>\n",
              "      <td>23</td>\n",
              "      <td>18</td>\n",
              "      <td>11</td>\n",
              "      <td>22</td>\n",
              "      <td>15</td>\n",
              "      <td>1</td>\n",
              "      <td>7</td>\n",
              "      <td>2</td>\n",
              "      <td>23</td>\n",
              "      <td>8</td>\n",
              "      <td>1</td>\n",
              "      <td>13</td>\n",
              "      <td>19</td>\n",
              "      <td>14</td>\n",
              "      <td>16</td>\n",
              "      <td>1</td>\n",
              "      <td>20</td>\n",
              "      <td>6</td>\n",
              "      <td>12</td>\n",
              "      <td>7</td>\n",
              "      <td>10</td>\n",
              "      <td>21</td>\n",
              "      <td>14</td>\n",
              "      <td>0</td>\n",
              "      <td>6</td>\n",
              "      <td>1</td>\n",
              "      <td>8</td>\n",
              "      <td>19</td>\n",
              "      <td>12</td>\n",
              "      <td>24</td>\n",
              "      <td>4</td>\n",
              "      <td>25</td>\n",
              "      <td>1</td>\n",
              "    </tr>\n",
              "    <tr>\n",
              "      <th>1</th>\n",
              "      <td>1</td>\n",
              "      <td>12</td>\n",
              "      <td>5</td>\n",
              "      <td>17</td>\n",
              "      <td>23</td>\n",
              "      <td>18</td>\n",
              "      <td>23</td>\n",
              "      <td>8</td>\n",
              "      <td>1</td>\n",
              "      <td>13</td>\n",
              "      <td>19</td>\n",
              "      <td>14</td>\n",
              "      <td>10</td>\n",
              "      <td>21</td>\n",
              "      <td>14</td>\n",
              "      <td>0</td>\n",
              "      <td>6</td>\n",
              "      <td>1</td>\n",
              "      <td>16</td>\n",
              "      <td>1</td>\n",
              "      <td>20</td>\n",
              "      <td>6</td>\n",
              "      <td>12</td>\n",
              "      <td>7</td>\n",
              "      <td>14</td>\n",
              "      <td>25</td>\n",
              "      <td>18</td>\n",
              "      <td>4</td>\n",
              "      <td>10</td>\n",
              "      <td>5</td>\n",
              "      <td>15</td>\n",
              "      <td>0</td>\n",
              "      <td>19</td>\n",
              "      <td>5</td>\n",
              "      <td>11</td>\n",
              "      <td>6</td>\n",
              "      <td>1</td>\n",
              "    </tr>\n",
              "    <tr>\n",
              "      <th>2</th>\n",
              "      <td>13</td>\n",
              "      <td>24</td>\n",
              "      <td>17</td>\n",
              "      <td>3</td>\n",
              "      <td>9</td>\n",
              "      <td>4</td>\n",
              "      <td>18</td>\n",
              "      <td>3</td>\n",
              "      <td>22</td>\n",
              "      <td>8</td>\n",
              "      <td>14</td>\n",
              "      <td>9</td>\n",
              "      <td>7</td>\n",
              "      <td>18</td>\n",
              "      <td>11</td>\n",
              "      <td>23</td>\n",
              "      <td>3</td>\n",
              "      <td>24</td>\n",
              "      <td>17</td>\n",
              "      <td>2</td>\n",
              "      <td>21</td>\n",
              "      <td>7</td>\n",
              "      <td>13</td>\n",
              "      <td>8</td>\n",
              "      <td>3</td>\n",
              "      <td>14</td>\n",
              "      <td>7</td>\n",
              "      <td>19</td>\n",
              "      <td>25</td>\n",
              "      <td>20</td>\n",
              "      <td>5</td>\n",
              "      <td>16</td>\n",
              "      <td>9</td>\n",
              "      <td>21</td>\n",
              "      <td>1</td>\n",
              "      <td>22</td>\n",
              "      <td>3</td>\n",
              "    </tr>\n",
              "    <tr>\n",
              "      <th>3</th>\n",
              "      <td>19</td>\n",
              "      <td>4</td>\n",
              "      <td>23</td>\n",
              "      <td>9</td>\n",
              "      <td>15</td>\n",
              "      <td>10</td>\n",
              "      <td>14</td>\n",
              "      <td>25</td>\n",
              "      <td>18</td>\n",
              "      <td>4</td>\n",
              "      <td>10</td>\n",
              "      <td>5</td>\n",
              "      <td>4</td>\n",
              "      <td>15</td>\n",
              "      <td>8</td>\n",
              "      <td>20</td>\n",
              "      <td>0</td>\n",
              "      <td>21</td>\n",
              "      <td>13</td>\n",
              "      <td>24</td>\n",
              "      <td>17</td>\n",
              "      <td>3</td>\n",
              "      <td>9</td>\n",
              "      <td>4</td>\n",
              "      <td>0</td>\n",
              "      <td>11</td>\n",
              "      <td>4</td>\n",
              "      <td>16</td>\n",
              "      <td>22</td>\n",
              "      <td>17</td>\n",
              "      <td>8</td>\n",
              "      <td>19</td>\n",
              "      <td>12</td>\n",
              "      <td>24</td>\n",
              "      <td>4</td>\n",
              "      <td>25</td>\n",
              "      <td>4</td>\n",
              "    </tr>\n",
              "    <tr>\n",
              "      <th>4</th>\n",
              "      <td>19</td>\n",
              "      <td>4</td>\n",
              "      <td>23</td>\n",
              "      <td>9</td>\n",
              "      <td>15</td>\n",
              "      <td>10</td>\n",
              "      <td>4</td>\n",
              "      <td>15</td>\n",
              "      <td>8</td>\n",
              "      <td>20</td>\n",
              "      <td>0</td>\n",
              "      <td>21</td>\n",
              "      <td>8</td>\n",
              "      <td>19</td>\n",
              "      <td>12</td>\n",
              "      <td>24</td>\n",
              "      <td>4</td>\n",
              "      <td>25</td>\n",
              "      <td>0</td>\n",
              "      <td>11</td>\n",
              "      <td>4</td>\n",
              "      <td>16</td>\n",
              "      <td>22</td>\n",
              "      <td>17</td>\n",
              "      <td>1</td>\n",
              "      <td>12</td>\n",
              "      <td>5</td>\n",
              "      <td>17</td>\n",
              "      <td>23</td>\n",
              "      <td>18</td>\n",
              "      <td>3</td>\n",
              "      <td>14</td>\n",
              "      <td>7</td>\n",
              "      <td>19</td>\n",
              "      <td>25</td>\n",
              "      <td>20</td>\n",
              "      <td>4</td>\n",
              "    </tr>\n",
              "    <tr>\n",
              "      <th>...</th>\n",
              "      <td>...</td>\n",
              "      <td>...</td>\n",
              "      <td>...</td>\n",
              "      <td>...</td>\n",
              "      <td>...</td>\n",
              "      <td>...</td>\n",
              "      <td>...</td>\n",
              "      <td>...</td>\n",
              "      <td>...</td>\n",
              "      <td>...</td>\n",
              "      <td>...</td>\n",
              "      <td>...</td>\n",
              "      <td>...</td>\n",
              "      <td>...</td>\n",
              "      <td>...</td>\n",
              "      <td>...</td>\n",
              "      <td>...</td>\n",
              "      <td>...</td>\n",
              "      <td>...</td>\n",
              "      <td>...</td>\n",
              "      <td>...</td>\n",
              "      <td>...</td>\n",
              "      <td>...</td>\n",
              "      <td>...</td>\n",
              "      <td>...</td>\n",
              "      <td>...</td>\n",
              "      <td>...</td>\n",
              "      <td>...</td>\n",
              "      <td>...</td>\n",
              "      <td>...</td>\n",
              "      <td>...</td>\n",
              "      <td>...</td>\n",
              "      <td>...</td>\n",
              "      <td>...</td>\n",
              "      <td>...</td>\n",
              "      <td>...</td>\n",
              "      <td>...</td>\n",
              "    </tr>\n",
              "    <tr>\n",
              "      <th>1126</th>\n",
              "      <td>1</td>\n",
              "      <td>12</td>\n",
              "      <td>5</td>\n",
              "      <td>17</td>\n",
              "      <td>23</td>\n",
              "      <td>18</td>\n",
              "      <td>16</td>\n",
              "      <td>1</td>\n",
              "      <td>20</td>\n",
              "      <td>6</td>\n",
              "      <td>12</td>\n",
              "      <td>7</td>\n",
              "      <td>5</td>\n",
              "      <td>16</td>\n",
              "      <td>9</td>\n",
              "      <td>21</td>\n",
              "      <td>1</td>\n",
              "      <td>22</td>\n",
              "      <td>14</td>\n",
              "      <td>25</td>\n",
              "      <td>18</td>\n",
              "      <td>4</td>\n",
              "      <td>10</td>\n",
              "      <td>5</td>\n",
              "      <td>12</td>\n",
              "      <td>23</td>\n",
              "      <td>16</td>\n",
              "      <td>2</td>\n",
              "      <td>8</td>\n",
              "      <td>3</td>\n",
              "      <td>4</td>\n",
              "      <td>15</td>\n",
              "      <td>8</td>\n",
              "      <td>20</td>\n",
              "      <td>0</td>\n",
              "      <td>21</td>\n",
              "      <td>1</td>\n",
              "    </tr>\n",
              "    <tr>\n",
              "      <th>1127</th>\n",
              "      <td>1</td>\n",
              "      <td>12</td>\n",
              "      <td>5</td>\n",
              "      <td>17</td>\n",
              "      <td>23</td>\n",
              "      <td>18</td>\n",
              "      <td>16</td>\n",
              "      <td>1</td>\n",
              "      <td>20</td>\n",
              "      <td>6</td>\n",
              "      <td>12</td>\n",
              "      <td>7</td>\n",
              "      <td>14</td>\n",
              "      <td>25</td>\n",
              "      <td>18</td>\n",
              "      <td>4</td>\n",
              "      <td>10</td>\n",
              "      <td>5</td>\n",
              "      <td>23</td>\n",
              "      <td>8</td>\n",
              "      <td>1</td>\n",
              "      <td>13</td>\n",
              "      <td>19</td>\n",
              "      <td>14</td>\n",
              "      <td>11</td>\n",
              "      <td>22</td>\n",
              "      <td>15</td>\n",
              "      <td>1</td>\n",
              "      <td>7</td>\n",
              "      <td>2</td>\n",
              "      <td>4</td>\n",
              "      <td>15</td>\n",
              "      <td>8</td>\n",
              "      <td>20</td>\n",
              "      <td>0</td>\n",
              "      <td>21</td>\n",
              "      <td>1</td>\n",
              "    </tr>\n",
              "    <tr>\n",
              "      <th>1128</th>\n",
              "      <td>17</td>\n",
              "      <td>2</td>\n",
              "      <td>21</td>\n",
              "      <td>7</td>\n",
              "      <td>13</td>\n",
              "      <td>8</td>\n",
              "      <td>3</td>\n",
              "      <td>14</td>\n",
              "      <td>7</td>\n",
              "      <td>19</td>\n",
              "      <td>25</td>\n",
              "      <td>20</td>\n",
              "      <td>13</td>\n",
              "      <td>24</td>\n",
              "      <td>17</td>\n",
              "      <td>3</td>\n",
              "      <td>9</td>\n",
              "      <td>4</td>\n",
              "      <td>12</td>\n",
              "      <td>23</td>\n",
              "      <td>16</td>\n",
              "      <td>2</td>\n",
              "      <td>8</td>\n",
              "      <td>3</td>\n",
              "      <td>25</td>\n",
              "      <td>10</td>\n",
              "      <td>3</td>\n",
              "      <td>15</td>\n",
              "      <td>21</td>\n",
              "      <td>16</td>\n",
              "      <td>7</td>\n",
              "      <td>18</td>\n",
              "      <td>11</td>\n",
              "      <td>23</td>\n",
              "      <td>3</td>\n",
              "      <td>24</td>\n",
              "      <td>3</td>\n",
              "    </tr>\n",
              "    <tr>\n",
              "      <th>1129</th>\n",
              "      <td>3</td>\n",
              "      <td>14</td>\n",
              "      <td>7</td>\n",
              "      <td>19</td>\n",
              "      <td>25</td>\n",
              "      <td>20</td>\n",
              "      <td>25</td>\n",
              "      <td>10</td>\n",
              "      <td>3</td>\n",
              "      <td>15</td>\n",
              "      <td>21</td>\n",
              "      <td>16</td>\n",
              "      <td>0</td>\n",
              "      <td>11</td>\n",
              "      <td>4</td>\n",
              "      <td>16</td>\n",
              "      <td>22</td>\n",
              "      <td>17</td>\n",
              "      <td>17</td>\n",
              "      <td>2</td>\n",
              "      <td>21</td>\n",
              "      <td>7</td>\n",
              "      <td>13</td>\n",
              "      <td>8</td>\n",
              "      <td>12</td>\n",
              "      <td>23</td>\n",
              "      <td>16</td>\n",
              "      <td>2</td>\n",
              "      <td>8</td>\n",
              "      <td>3</td>\n",
              "      <td>7</td>\n",
              "      <td>18</td>\n",
              "      <td>11</td>\n",
              "      <td>23</td>\n",
              "      <td>3</td>\n",
              "      <td>24</td>\n",
              "      <td>3</td>\n",
              "    </tr>\n",
              "    <tr>\n",
              "      <th>1130</th>\n",
              "      <td>12</td>\n",
              "      <td>23</td>\n",
              "      <td>16</td>\n",
              "      <td>2</td>\n",
              "      <td>8</td>\n",
              "      <td>3</td>\n",
              "      <td>17</td>\n",
              "      <td>2</td>\n",
              "      <td>21</td>\n",
              "      <td>7</td>\n",
              "      <td>13</td>\n",
              "      <td>8</td>\n",
              "      <td>11</td>\n",
              "      <td>22</td>\n",
              "      <td>15</td>\n",
              "      <td>1</td>\n",
              "      <td>7</td>\n",
              "      <td>2</td>\n",
              "      <td>6</td>\n",
              "      <td>17</td>\n",
              "      <td>10</td>\n",
              "      <td>22</td>\n",
              "      <td>2</td>\n",
              "      <td>23</td>\n",
              "      <td>0</td>\n",
              "      <td>11</td>\n",
              "      <td>4</td>\n",
              "      <td>16</td>\n",
              "      <td>22</td>\n",
              "      <td>17</td>\n",
              "      <td>2</td>\n",
              "      <td>13</td>\n",
              "      <td>6</td>\n",
              "      <td>18</td>\n",
              "      <td>24</td>\n",
              "      <td>19</td>\n",
              "      <td>2</td>\n",
              "    </tr>\n",
              "  </tbody>\n",
              "</table>\n",
              "<p>1131 rows × 37 columns</p>\n",
              "</div>"
            ],
            "text/plain": [
              "      f1  f2  f3  f4  f5  f6  f7  f8  ...  f30  f31  f32  f33  f34  f35  f36  key\n",
              "0      1  12   5  17  23  18  11  22  ...    1    8   19   12   24    4   25    1\n",
              "1      1  12   5  17  23  18  23   8  ...    5   15    0   19    5   11    6    1\n",
              "2     13  24  17   3   9   4  18   3  ...   20    5   16    9   21    1   22    3\n",
              "3     19   4  23   9  15  10  14  25  ...   17    8   19   12   24    4   25    4\n",
              "4     19   4  23   9  15  10   4  15  ...   18    3   14    7   19   25   20    4\n",
              "...   ..  ..  ..  ..  ..  ..  ..  ..  ...  ...  ...  ...  ...  ...  ...  ...  ...\n",
              "1126   1  12   5  17  23  18  16   1  ...    3    4   15    8   20    0   21    1\n",
              "1127   1  12   5  17  23  18  16   1  ...    2    4   15    8   20    0   21    1\n",
              "1128  17   2  21   7  13   8   3  14  ...   16    7   18   11   23    3   24    3\n",
              "1129   3  14   7  19  25  20  25  10  ...    3    7   18   11   23    3   24    3\n",
              "1130  12  23  16   2   8   3  17   2  ...   17    2   13    6   18   24   19    2\n",
              "\n",
              "[1131 rows x 37 columns]"
            ]
          },
          "metadata": {
            "tags": []
          },
          "execution_count": 29
        }
      ]
    },
    {
      "cell_type": "code",
      "metadata": {
        "id": "ps-OKjHXzkv_",
        "colab_type": "code",
        "colab": {}
      },
      "source": [
        "from sklearn.model_selection import train_test_split\n",
        "X1=df8.drop(labels='key',axis=1)\n",
        "y1=df8['key']\n",
        "X1_train, X1_test, y1_train, y1_test = train_test_split(X1, y1, random_state=0)"
      ],
      "execution_count": 30,
      "outputs": []
    },
    {
      "cell_type": "code",
      "metadata": {
        "id": "7a5OVs_s0uRy",
        "colab_type": "code",
        "colab": {
          "base_uri": "https://localhost:8080/",
          "height": 34
        },
        "outputId": "a0cf1b65-00c9-441f-eb90-98dd052b8e7b"
      },
      "source": [
        "clf = GaussianNB()\n",
        "\n",
        "clf.fit(X1_train,y1_train)"
      ],
      "execution_count": 31,
      "outputs": [
        {
          "output_type": "execute_result",
          "data": {
            "text/plain": [
              "GaussianNB(priors=None, var_smoothing=1e-09)"
            ]
          },
          "metadata": {
            "tags": []
          },
          "execution_count": 31
        }
      ]
    },
    {
      "cell_type": "code",
      "metadata": {
        "id": "naF2cQWN1qYU",
        "colab_type": "code",
        "colab": {
          "base_uri": "https://localhost:8080/",
          "height": 34
        },
        "outputId": "c9b16d87-67a8-4f13-960f-c3864b6b2f80"
      },
      "source": [
        "print(\"Accuracy:\",metrics.accuracy_score(y1_test,clf.predict(X1_test)))"
      ],
      "execution_count": 32,
      "outputs": [
        {
          "output_type": "stream",
          "text": [
            "Accuracy: 0.4911660777385159\n"
          ],
          "name": "stdout"
        }
      ]
    },
    {
      "cell_type": "code",
      "metadata": {
        "id": "l6E0ZXf913g0",
        "colab_type": "code",
        "colab": {}
      },
      "source": [
        ""
      ],
      "execution_count": 32,
      "outputs": []
    },
    {
      "cell_type": "markdown",
      "metadata": {
        "id": "4yPXh8Gt_gkp",
        "colab_type": "text"
      },
      "source": [
        "# KNN classifier works best as No of Votes are Involved"
      ]
    },
    {
      "cell_type": "code",
      "metadata": {
        "id": "KOLDklAx_iw5",
        "colab_type": "code",
        "colab": {
          "base_uri": "https://localhost:8080/",
          "height": 34
        },
        "outputId": "fd1fd2f2-7b53-489e-e13a-b0c8fd3d41b1"
      },
      "source": [
        "knn_new5= KNeighborsClassifier(n_neighbors = 5)\n",
        "# It is providing best fit for 5 neighbors\n",
        "\n",
        "knn_new5.fit(X_train,y_train)\n",
        "print(\"Accuracy:\",metrics.accuracy_score(y1,knn_new5.predict(X1)))"
      ],
      "execution_count": 33,
      "outputs": [
        {
          "output_type": "stream",
          "text": [
            "Accuracy: 0.6923076923076923\n"
          ],
          "name": "stdout"
        }
      ]
    },
    {
      "cell_type": "code",
      "metadata": {
        "id": "zxWPqJcz_r5m",
        "colab_type": "code",
        "colab": {}
      },
      "source": [
        ""
      ],
      "execution_count": null,
      "outputs": []
    }
  ]
}